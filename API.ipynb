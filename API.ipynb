{
  "nbformat": 4,
  "nbformat_minor": 0,
  "metadata": {
    "colab": {
      "name": "Nunky_Febilia_V_API.ipynb",
      "provenance": []
    },
    "kernelspec": {
      "name": "python3",
      "display_name": "Python 3"
    },
    "language_info": {
      "name": "python"
    }
  },
  "cells": [
    {
      "cell_type": "code",
      "metadata": {
        "id": "6uK9Rkk35v_9"
      },
      "source": [
        "import pandas as pd\n",
        "import requests"
      ],
      "execution_count": null,
      "outputs": []
    },
    {
      "cell_type": "markdown",
      "metadata": {
        "id": "dznMH5_8536B"
      },
      "source": [
        "#SOAL\n",
        "Dengan menggunakan API alphavantage silahkan untuk tarik data untuk saham Google, IBM, Apple dan Amazon. Output yang diharapkan adalah gabungan saham dan disimpan berupa pandas dataframe dengan kolom"
      ]
    },
    {
      "cell_type": "code",
      "metadata": {
        "colab": {
          "base_uri": "https://localhost:8080/"
        },
        "id": "ObOCT-Ct6UV1",
        "outputId": "39914aac-081b-442c-a227-048622788bee"
      },
      "source": [
        "#Google\n",
        "api_url = \"https://www.alphavantage.co/query?\"\n",
        "\n",
        "data_google = {\n",
        "    \"function\" : \"TIME_SERIES_DAILY\",\n",
        "    \"symbol\" : \"GOOG\",\n",
        "    \"apikey\" : \"H9A26HVDIV1RH05\"\n",
        "    }\n",
        "  \n",
        "response_google = requests.get(api_url, params=data_google)\n",
        "google = response_google.json()\n",
        "\n",
        "symbol_google = google['Meta Data']['2. Symbol']\n",
        "daily_google = google['Time Series (Daily)']\n",
        "\n",
        "processed_google = []\n",
        "for date in daily_google:\n",
        "  open = daily_google[date]['1. open']\n",
        "  close = daily_google[date]['4. close']\n",
        "  volume = daily_google[date]['5. volume']\n",
        "\n",
        "  processed_google.append([symbol_google,date,open,close,volume])\n",
        "\n",
        "result_google = pd.DataFrame(processed_google,columns = ['symbol','date','open','close','volume'])\n",
        "print(result_google)#IBM\n",
        "data_ibm = {\n",
        "    \"function\" : \"TIME_SERIES_DAILY\",\n",
        "    \"symbol\" : \"IBM\",\n",
        "    \"apikey\" : \"H9A26HVDIV1RH05\"\n",
        "    }\n",
        "  \n",
        "response_ibm = requests.get(api_url, params=data_ibm)\n",
        "ibm = response_ibm.json()\n",
        "\n",
        "symbol_ibm = ibm['Meta Data']['2. Symbol']\n",
        "daily_ibm = ibm['Time Series (Daily)']\n",
        "\n",
        "processed_ibm = []\n",
        "for date_ibm in daily_ibm:\n",
        "  open_ibm = daily_ibm[date_ibm]['1. open']\n",
        "  close_ibm = daily_ibm[date_ibm]['4. close']\n",
        "  volume_ibm = daily_ibm[date_ibm]['5. volume']\n",
        "\n",
        "  processed_ibm.append([symbol_ibm,date_ibm,open_ibm,close_ibm,volume_ibm])\n",
        "\n",
        "result_ibm = pd.DataFrame(processed_ibm,columns = ['symbol','date','open','close','volume'])\n",
        "print(result_ibm)"
      ],
      "execution_count": null,
      "outputs": [
        {
          "output_type": "stream",
          "name": "stdout",
          "text": [
            "   symbol        date       open      close   volume\n",
            "0    GOOG  2021-10-08  2798.1200  2801.1200   946421\n",
            "1    GOOG  2021-10-07  2777.2600  2783.7100   912523\n",
            "2    GOOG  2021-10-06  2692.5100  2747.0800   988216\n",
            "3    GOOG  2021-10-05  2680.0000  2723.5400  1206337\n",
            "4    GOOG  2021-10-04  2713.9900  2675.3000  1576495\n",
            "..    ...         ...        ...        ...      ...\n",
            "95   GOOG  2021-05-25  2420.0000  2409.0700   941928\n",
            "96   GOOG  2021-05-24  2367.0000  2406.6700  1062189\n",
            "97   GOOG  2021-05-21  2365.9900  2345.1000  1141632\n",
            "98   GOOG  2021-05-20  2328.0400  2356.0900  1191593\n",
            "99   GOOG  2021-05-19  2264.4000  2308.7100   967544\n",
            "\n",
            "[100 rows x 5 columns]\n",
            "   symbol        date      open     close   volume\n",
            "0     IBM  2021-10-08  141.8100  143.2200  3731279\n",
            "1     IBM  2021-10-07  142.7300  141.8100  3823803\n",
            "2     IBM  2021-10-06  142.4800  142.3600  5328433\n",
            "3     IBM  2021-10-05  144.7500  143.1500  6976648\n",
            "4     IBM  2021-10-04  142.7400  144.1100  7351128\n",
            "..    ...         ...       ...       ...      ...\n",
            "95    IBM  2021-05-25  144.9200  143.7900  3937323\n",
            "96    IBM  2021-05-24  145.0600  144.7200  3297570\n",
            "97    IBM  2021-05-21  144.2800  144.7400  4033482\n",
            "98    IBM  2021-05-20  143.1200  143.8800  4112690\n",
            "99    IBM  2021-05-19  142.3200  143.1900  4300732\n",
            "\n",
            "[100 rows x 5 columns]\n"
          ]
        }
      ]
    },
    {
      "cell_type": "code",
      "metadata": {
        "colab": {
          "base_uri": "https://localhost:8080/"
        },
        "id": "tf7MZDP06feO",
        "outputId": "052d135e-4add-4373-8ee2-012641365e29"
      },
      "source": [
        "#APPLE\n",
        "data_apple = {\n",
        "    \"function\" : \"TIME_SERIES_DAILY\",\n",
        "    \"symbol\" : \"AAPL\",\n",
        "    \"apikey\" : \"H9A26HVDIV1RH05\"\n",
        "    }\n",
        "  \n",
        "response_apple = requests.get(api_url, params=data_apple)\n",
        "apple = response_apple.json()\n",
        "\n",
        "symbol_apple = apple['Meta Data']['2. Symbol']\n",
        "daily_apple = apple['Time Series (Daily)']\n",
        "\n",
        "processed_apple = []\n",
        "for date_apple in daily_apple:\n",
        "  open_apple = daily_apple[date_apple]['1. open']\n",
        "  close_apple = daily_apple[date_apple]['4. close']\n",
        "  volume_apple = daily_apple[date_apple]['5. volume']\n",
        "\n",
        "  processed_apple.append([symbol_apple,date_apple,open_apple,close_apple,volume_apple])\n",
        "\n",
        "result_apple = pd.DataFrame(processed_apple,columns = ['symbol','date','open','close','volume'])\n",
        "print(result_apple)"
      ],
      "execution_count": null,
      "outputs": [
        {
          "output_type": "stream",
          "name": "stdout",
          "text": [
            "   symbol        date      open     close    volume\n",
            "0    AAPL  2021-10-08  144.0300  142.9000  58773155\n",
            "1    AAPL  2021-10-07  143.0600  143.2900  61732656\n",
            "2    AAPL  2021-10-06  139.4700  142.0000  83221119\n",
            "3    AAPL  2021-10-05  139.4900  141.1100  80861062\n",
            "4    AAPL  2021-10-04  141.7600  139.1400  98322008\n",
            "..    ...         ...       ...       ...       ...\n",
            "95   AAPL  2021-05-25  127.8200  126.9000  72009482\n",
            "96   AAPL  2021-05-24  126.0100  127.1000  63092945\n",
            "97   AAPL  2021-05-21  127.8200  125.4300  79295436\n",
            "98   AAPL  2021-05-20  125.2300  127.3100  76857123\n",
            "99   AAPL  2021-05-19  123.1600  124.6900  92611989\n",
            "\n",
            "[100 rows x 5 columns]\n"
          ]
        }
      ]
    },
    {
      "cell_type": "code",
      "metadata": {
        "colab": {
          "base_uri": "https://localhost:8080/"
        },
        "id": "bojeP2dF6reY",
        "outputId": "ff22dc35-c834-4765-e71f-7eed84607dd6"
      },
      "source": [
        "#AMAZON\n",
        "data_amazon = {\n",
        "    \"function\" : \"TIME_SERIES_DAILY\",\n",
        "    \"symbol\" : \"AMZN\",\n",
        "    \"apikey\" : \"H9A26HVDIV1RH05\"\n",
        "    }\n",
        "  \n",
        "response_amazon = requests.get(api_url, params=data_amazon)\n",
        "amazon = response_amazon.json()\n",
        "\n",
        "symbol_amazon = amazon['Meta Data']['2. Symbol']\n",
        "daily_amazon = amazon['Time Series (Daily)']\n",
        "\n",
        "processed_amazon = []\n",
        "for date_amazon in daily_amazon:\n",
        "  open_amazon = daily_amazon[date]['1. open']\n",
        "  close_amazon = daily_amazon[date]['4. close']\n",
        "  volume_amazon = daily_amazon[date]['5. volume']\n",
        "\n",
        "  processed_amazon.append([symbol_amazon,date_amazon,open_amazon,close_amazon,volume_amazon])\n",
        "\n",
        "result_amazon = pd.DataFrame(processed_amazon,columns = ['symbol','date','open','close','volume'])\n",
        "print(result_amazon)"
      ],
      "execution_count": null,
      "outputs": [
        {
          "output_type": "stream",
          "name": "stdout",
          "text": [
            "   symbol        date       open      close   volume\n",
            "0    AMZN  2021-10-08  3195.0000  3231.8000  2679708\n",
            "1    AMZN  2021-10-07  3195.0000  3231.8000  2679708\n",
            "2    AMZN  2021-10-06  3195.0000  3231.8000  2679708\n",
            "3    AMZN  2021-10-05  3195.0000  3231.8000  2679708\n",
            "4    AMZN  2021-10-04  3195.0000  3231.8000  2679708\n",
            "..    ...         ...        ...        ...      ...\n",
            "95   AMZN  2021-05-25  3195.0000  3231.8000  2679708\n",
            "96   AMZN  2021-05-24  3195.0000  3231.8000  2679708\n",
            "97   AMZN  2021-05-21  3195.0000  3231.8000  2679708\n",
            "98   AMZN  2021-05-20  3195.0000  3231.8000  2679708\n",
            "99   AMZN  2021-05-19  3195.0000  3231.8000  2679708\n",
            "\n",
            "[100 rows x 5 columns]\n"
          ]
        }
      ]
    },
    {
      "cell_type": "code",
      "metadata": {
        "colab": {
          "base_uri": "https://localhost:8080/",
          "height": 419
        },
        "id": "OgReu6Ah6uYL",
        "outputId": "925b502c-e579-49eb-9000-415d2f6ee1c8"
      },
      "source": [
        "frames = [result_google,result_ibm,result_apple,result_amazon]\n",
        "result_all = pd.concat((frames), ignore_index=True, sort=False)\n",
        "result_all"
      ],
      "execution_count": null,
      "outputs": [
        {
          "output_type": "execute_result",
          "data": {
            "text/html": [
              "<div>\n",
              "<style scoped>\n",
              "    .dataframe tbody tr th:only-of-type {\n",
              "        vertical-align: middle;\n",
              "    }\n",
              "\n",
              "    .dataframe tbody tr th {\n",
              "        vertical-align: top;\n",
              "    }\n",
              "\n",
              "    .dataframe thead th {\n",
              "        text-align: right;\n",
              "    }\n",
              "</style>\n",
              "<table border=\"1\" class=\"dataframe\">\n",
              "  <thead>\n",
              "    <tr style=\"text-align: right;\">\n",
              "      <th></th>\n",
              "      <th>symbol</th>\n",
              "      <th>date</th>\n",
              "      <th>open</th>\n",
              "      <th>close</th>\n",
              "      <th>volume</th>\n",
              "    </tr>\n",
              "  </thead>\n",
              "  <tbody>\n",
              "    <tr>\n",
              "      <th>0</th>\n",
              "      <td>GOOG</td>\n",
              "      <td>2021-10-08</td>\n",
              "      <td>2798.1200</td>\n",
              "      <td>2801.1200</td>\n",
              "      <td>946421</td>\n",
              "    </tr>\n",
              "    <tr>\n",
              "      <th>1</th>\n",
              "      <td>GOOG</td>\n",
              "      <td>2021-10-07</td>\n",
              "      <td>2777.2600</td>\n",
              "      <td>2783.7100</td>\n",
              "      <td>912523</td>\n",
              "    </tr>\n",
              "    <tr>\n",
              "      <th>2</th>\n",
              "      <td>GOOG</td>\n",
              "      <td>2021-10-06</td>\n",
              "      <td>2692.5100</td>\n",
              "      <td>2747.0800</td>\n",
              "      <td>988216</td>\n",
              "    </tr>\n",
              "    <tr>\n",
              "      <th>3</th>\n",
              "      <td>GOOG</td>\n",
              "      <td>2021-10-05</td>\n",
              "      <td>2680.0000</td>\n",
              "      <td>2723.5400</td>\n",
              "      <td>1206337</td>\n",
              "    </tr>\n",
              "    <tr>\n",
              "      <th>4</th>\n",
              "      <td>GOOG</td>\n",
              "      <td>2021-10-04</td>\n",
              "      <td>2713.9900</td>\n",
              "      <td>2675.3000</td>\n",
              "      <td>1576495</td>\n",
              "    </tr>\n",
              "    <tr>\n",
              "      <th>...</th>\n",
              "      <td>...</td>\n",
              "      <td>...</td>\n",
              "      <td>...</td>\n",
              "      <td>...</td>\n",
              "      <td>...</td>\n",
              "    </tr>\n",
              "    <tr>\n",
              "      <th>395</th>\n",
              "      <td>AMZN</td>\n",
              "      <td>2021-05-25</td>\n",
              "      <td>3195.0000</td>\n",
              "      <td>3231.8000</td>\n",
              "      <td>2679708</td>\n",
              "    </tr>\n",
              "    <tr>\n",
              "      <th>396</th>\n",
              "      <td>AMZN</td>\n",
              "      <td>2021-05-24</td>\n",
              "      <td>3195.0000</td>\n",
              "      <td>3231.8000</td>\n",
              "      <td>2679708</td>\n",
              "    </tr>\n",
              "    <tr>\n",
              "      <th>397</th>\n",
              "      <td>AMZN</td>\n",
              "      <td>2021-05-21</td>\n",
              "      <td>3195.0000</td>\n",
              "      <td>3231.8000</td>\n",
              "      <td>2679708</td>\n",
              "    </tr>\n",
              "    <tr>\n",
              "      <th>398</th>\n",
              "      <td>AMZN</td>\n",
              "      <td>2021-05-20</td>\n",
              "      <td>3195.0000</td>\n",
              "      <td>3231.8000</td>\n",
              "      <td>2679708</td>\n",
              "    </tr>\n",
              "    <tr>\n",
              "      <th>399</th>\n",
              "      <td>AMZN</td>\n",
              "      <td>2021-05-19</td>\n",
              "      <td>3195.0000</td>\n",
              "      <td>3231.8000</td>\n",
              "      <td>2679708</td>\n",
              "    </tr>\n",
              "  </tbody>\n",
              "</table>\n",
              "<p>400 rows × 5 columns</p>\n",
              "</div>"
            ],
            "text/plain": [
              "    symbol        date       open      close   volume\n",
              "0     GOOG  2021-10-08  2798.1200  2801.1200   946421\n",
              "1     GOOG  2021-10-07  2777.2600  2783.7100   912523\n",
              "2     GOOG  2021-10-06  2692.5100  2747.0800   988216\n",
              "3     GOOG  2021-10-05  2680.0000  2723.5400  1206337\n",
              "4     GOOG  2021-10-04  2713.9900  2675.3000  1576495\n",
              "..     ...         ...        ...        ...      ...\n",
              "395   AMZN  2021-05-25  3195.0000  3231.8000  2679708\n",
              "396   AMZN  2021-05-24  3195.0000  3231.8000  2679708\n",
              "397   AMZN  2021-05-21  3195.0000  3231.8000  2679708\n",
              "398   AMZN  2021-05-20  3195.0000  3231.8000  2679708\n",
              "399   AMZN  2021-05-19  3195.0000  3231.8000  2679708\n",
              "\n",
              "[400 rows x 5 columns]"
            ]
          },
          "metadata": {},
          "execution_count": 8
        }
      ]
    }
  ]
}